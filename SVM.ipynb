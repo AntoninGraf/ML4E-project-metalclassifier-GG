{
 "cells": [
  {
   "cell_type": "markdown",
   "metadata": {},
   "source": [
    "# SVM for Coin Classification\n",
    "\n",
    "This notebook demonstrates the use of a Support Vector Machine (SVM) to classify different coins based on impedance measurements. The data is collected from different groups, and this notebook will preprocess, train, and evaluate the SVM model.\n"
   ]
  },
  {
   "cell_type": "code",
   "execution_count": 1,
   "metadata": {},
   "outputs": [],
   "source": [
    "# Import necessary libraries\n",
    "import os\n",
    "import numpy as np\n",
    "import pandas as pd\n",
    "from sklearn.model_selection import train_test_split\n",
    "from sklearn.preprocessing import StandardScaler\n",
    "from sklearn.utils import shuffle\n",
    "from sklearn.svm import SVC\n",
    "from sklearn.metrics import classification_report, confusion_matrix\n",
    "import matplotlib.pyplot as plt\n",
    "from datafilereader import DataFileReader\n",
    "from datafileviewer_template import DataFileViewer"
   ]
  },
  {
   "cell_type": "code",
   "execution_count": 8,
   "metadata": {},
   "outputs": [],
   "source": [
    "\n",
    "# Function to load and merge data from all groups for each coin\n",
    "def load_and_merge_data(groups, coins, data_dir):\n",
    "    data = []\n",
    "    labels = []\n",
    "    for coin in coins:\n",
    "        coin_name = coin.replace('.h5', '')\n",
    "        for group in groups:\n",
    "            file_path = os.path.join(data_dir, group, coin)\n",
    "            if os.path.isfile(file_path):\n",
    "                reader = DataFileReader(file_path)\n",
    "                frequency, Z = reader.get_all_mesurements()\n",
    "                \n",
    "                # Separate resistance and reactance\n",
    "                resistance = np.real(Z)\n",
    "                reactance = np.imag(Z)\n",
    "                \n",
    "                # Extract features (mean and variance of resistance and reactance)\n",
    "                for idx in range(resistance.shape[0]):\n",
    "                    features = [\n",
    "                        np.mean(resistance[idx]), np.var(resistance[idx]),\n",
    "                        np.mean(reactance[idx]), np.var(reactance[idx])\n",
    "                    ]\n",
    "                    data.append(features)\n",
    "                    labels.append(coin_name)\n",
    "            # else:\n",
    "            #     print(f\"File not found: {file_path}\")\n",
    "    \n",
    "    data, labels = shuffle(np.array(data), np.array(labels))\n",
    "    return pd.DataFrame(data, columns=['res_mean', 'res_var', 'react_mean', 'react_var']), pd.Series(labels)\n",
    "\n",
    "# Define the directory and groups\n",
    "data_dir = \"./data\"\n",
    "num_groups = 11\n",
    "groups = [f\"Groupe{i}\" for i in range(1, num_groups + 1)]\n",
    "coins = [\"1_CHF.h5\", \"2_CHF.h5\", \"5_CHF.h5\", \"10_CTS.h5\", \"20_CTS.h5\", \"50_CTS.h5\", \"EUR_1.h5\"]\n",
    "\n",
    "# Load and merge data\n",
    "X, y = load_and_merge_data(groups, coins, data_dir)\n"
   ]
  },
  {
   "cell_type": "code",
   "execution_count": 4,
   "metadata": {},
   "outputs": [],
   "source": [
    "# Split data into training, validation, and test sets\n",
    "X_train, X_temp, y_train, y_temp = train_test_split(X, y, test_size=0.4, random_state=42)\n",
    "X_val, X_test, y_val, y_test = train_test_split(X_temp, y_temp, test_size=0.5, random_state=42)\n",
    "\n",
    "# Standardize the data\n",
    "scaler = StandardScaler()\n",
    "X_train = scaler.fit_transform(X_train)\n",
    "X_val = scaler.transform(X_val)\n",
    "X_test = scaler.transform(X_test)\n"
   ]
  },
  {
   "cell_type": "code",
   "execution_count": 5,
   "metadata": {},
   "outputs": [
    {
     "name": "stdout",
     "output_type": "stream",
     "text": [
      "Validation Set Report\n",
      "              precision    recall  f1-score   support\n",
      "\n",
      "      10_CTS       0.00      0.00      0.00        24\n",
      "       1_CHF       0.49      0.86      0.62        29\n",
      "      20_CTS       0.71      0.59      0.65        34\n",
      "       2_CHF       0.84      0.90      0.87        29\n",
      "      50_CTS       0.81      0.97      0.88        35\n",
      "       5_CHF       0.91      0.89      0.90        46\n",
      "\n",
      "    accuracy                           0.74       197\n",
      "   macro avg       0.63      0.70      0.65       197\n",
      "weighted avg       0.68      0.74      0.70       197\n",
      "\n",
      "[[ 0 16  4  0  4  0]\n",
      " [ 0 25  3  0  1  0]\n",
      " [ 0 10 20  0  3  1]\n",
      " [ 0  0  1 26  0  2]\n",
      " [ 0  0  0  0 34  1]\n",
      " [ 0  0  0  5  0 41]]\n"
     ]
    },
    {
     "name": "stderr",
     "output_type": "stream",
     "text": [
      "c:\\Users\\Zack\\miniconda3\\envs\\ML\\Lib\\site-packages\\sklearn\\metrics\\_classification.py:1509: UndefinedMetricWarning: Precision is ill-defined and being set to 0.0 in labels with no predicted samples. Use `zero_division` parameter to control this behavior.\n",
      "  _warn_prf(average, modifier, f\"{metric.capitalize()} is\", len(result))\n",
      "c:\\Users\\Zack\\miniconda3\\envs\\ML\\Lib\\site-packages\\sklearn\\metrics\\_classification.py:1509: UndefinedMetricWarning: Precision is ill-defined and being set to 0.0 in labels with no predicted samples. Use `zero_division` parameter to control this behavior.\n",
      "  _warn_prf(average, modifier, f\"{metric.capitalize()} is\", len(result))\n",
      "c:\\Users\\Zack\\miniconda3\\envs\\ML\\Lib\\site-packages\\sklearn\\metrics\\_classification.py:1509: UndefinedMetricWarning: Precision is ill-defined and being set to 0.0 in labels with no predicted samples. Use `zero_division` parameter to control this behavior.\n",
      "  _warn_prf(average, modifier, f\"{metric.capitalize()} is\", len(result))\n"
     ]
    }
   ],
   "source": [
    "\n",
    "# Train the SVM model with a non-linear kernel\n",
    "svm_model = SVC(kernel='rbf', probability=True)\n",
    "svm_model.fit(X_train, y_train)\n",
    "\n",
    "# Evaluate on the validation set\n",
    "y_val_pred = svm_model.predict(X_val)\n",
    "print(\"Validation Set Report\")\n",
    "print(classification_report(y_val, y_val_pred))\n",
    "print(confusion_matrix(y_val, y_val_pred))\n"
   ]
  },
  {
   "cell_type": "code",
   "execution_count": 6,
   "metadata": {},
   "outputs": [
    {
     "name": "stdout",
     "output_type": "stream",
     "text": [
      "Test Set Report\n",
      "              precision    recall  f1-score   support\n",
      "\n",
      "      10_CTS       0.00      0.00      0.00        23\n",
      "       1_CHF       0.46      0.65      0.54        34\n",
      "      20_CTS       0.73      0.66      0.69        41\n",
      "       2_CHF       0.83      0.81      0.82        37\n",
      "      50_CTS       0.66      0.95      0.78        22\n",
      "       5_CHF       0.77      0.85      0.81        40\n",
      "\n",
      "    accuracy                           0.68       197\n",
      "   macro avg       0.58      0.65      0.61       197\n",
      "weighted avg       0.62      0.68      0.64       197\n",
      "\n",
      "[[ 0 14  3  0  6  0]\n",
      " [ 0 22  7  0  4  1]\n",
      " [ 0 12 27  0  1  1]\n",
      " [ 0  0  0 30  0  7]\n",
      " [ 0  0  0  0 21  1]\n",
      " [ 0  0  0  6  0 34]]\n"
     ]
    },
    {
     "name": "stderr",
     "output_type": "stream",
     "text": [
      "c:\\Users\\Zack\\miniconda3\\envs\\ML\\Lib\\site-packages\\sklearn\\metrics\\_classification.py:1509: UndefinedMetricWarning: Precision is ill-defined and being set to 0.0 in labels with no predicted samples. Use `zero_division` parameter to control this behavior.\n",
      "  _warn_prf(average, modifier, f\"{metric.capitalize()} is\", len(result))\n",
      "c:\\Users\\Zack\\miniconda3\\envs\\ML\\Lib\\site-packages\\sklearn\\metrics\\_classification.py:1509: UndefinedMetricWarning: Precision is ill-defined and being set to 0.0 in labels with no predicted samples. Use `zero_division` parameter to control this behavior.\n",
      "  _warn_prf(average, modifier, f\"{metric.capitalize()} is\", len(result))\n",
      "c:\\Users\\Zack\\miniconda3\\envs\\ML\\Lib\\site-packages\\sklearn\\metrics\\_classification.py:1509: UndefinedMetricWarning: Precision is ill-defined and being set to 0.0 in labels with no predicted samples. Use `zero_division` parameter to control this behavior.\n",
      "  _warn_prf(average, modifier, f\"{metric.capitalize()} is\", len(result))\n"
     ]
    }
   ],
   "source": [
    "# Evaluate on the test set\n",
    "y_test_pred = svm_model.predict(X_test)\n",
    "print(\"Test Set Report\")\n",
    "print(classification_report(y_test, y_test_pred))\n",
    "print(confusion_matrix(y_test, y_test_pred))\n"
   ]
  }
 ],
 "metadata": {
  "kernelspec": {
   "display_name": "ML",
   "language": "python",
   "name": "python3"
  },
  "language_info": {
   "codemirror_mode": {
    "name": "ipython",
    "version": 3
   },
   "file_extension": ".py",
   "mimetype": "text/x-python",
   "name": "python",
   "nbconvert_exporter": "python",
   "pygments_lexer": "ipython3",
   "version": "3.12.2"
  }
 },
 "nbformat": 4,
 "nbformat_minor": 2
}
