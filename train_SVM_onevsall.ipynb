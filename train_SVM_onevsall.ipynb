{
 "cells": [
  {
   "cell_type": "code",
   "execution_count": 3,
   "metadata": {},
   "outputs": [],
   "source": [
    "import numpy as np\n",
    "import pickle\n",
    "from sklearn import svm\n",
    "from sklearn.metrics import accuracy_score, classification_report, confusion_matrix,ConfusionMatrixDisplay\n",
    "import matplotlib.pyplot as plt\n",
    "from datafilereader import DataFileReader\n",
    "from sklearn.multiclass import OneVsRestClassifier\n",
    "\n",
    "folder = \"./dataset\"\n",
    "\n",
    "labels = [\"unknown\", \"5_CTS\", \"10_CTS\", \"20_CTS\", \"50_CTS\", \"1_CHF\", \"2_CHF\", \"5_CHF\"]"
   ]
  },
  {
   "cell_type": "code",
   "execution_count": 19,
   "metadata": {},
   "outputs": [],
   "source": [
    "#load the training set\n",
    "with open('dataset/trainingset.pkl', 'rb') as f:\n",
    "    X, Y = pickle.load(f)\n",
    "\n",
    "#Y = np.ones(len(X))"
   ]
  },
  {
   "cell_type": "code",
   "execution_count": 20,
   "metadata": {},
   "outputs": [],
   "source": [
    "#train the SVM model using sikit-learn library\n",
    "C = 1\n",
    "clf = svm.SVC(kernel='linear', C =C,probability=True)\n",
    "#model = OneVsRestClassifier(clf)\n",
    "model = clf.fit(X, Y)\n",
    "\n",
    "#save the model\n",
    "with open(\"data/Tests/model2.pkl\",\"wb+\") as f:\n",
    "    pickle.dump(model, f)"
   ]
  },
  {
   "cell_type": "code",
   "execution_count": 17,
   "metadata": {},
   "outputs": [
    {
     "name": "stdout",
     "output_type": "stream",
     "text": [
      "[ 1.  1.  1. -1. -1. -1. -1.  1. -1. -1. -1. -1.  1. -1.  1. -1.  1.  1.\n",
      " -1. -1.  1.  1. -1. -1.  1. -1. -1.  1. -1.  1. -1. -1.  1. -1.  1. -1.\n",
      "  1.  1. -1. -1. -1. -1. -1.  1. -1. -1.  1. -1.  1. -1. -1. -1. -1. -1.\n",
      " -1.  1. -1.  1. -1.  1.]\n",
      "[ True  True  True False False False False  True  True False  True False\n",
      "  True False  True  True  True  True  True False  True  True False False\n",
      "  True  True False  True  True  True  True False  True False  True False\n",
      "  True  True False  True False False  True  True False False  True False\n",
      "  True False False False  True False False  True False  True False  True]\n"
     ]
    }
   ],
   "source": [
    "#test prediction with validation set\n",
    "#load the validation set\n",
    "with open('dataset/validset_foreign.pkl', 'rb') as f:\n",
    "    X_valid, Y_valid = pickle.load(f)\n",
    "\n",
    "print(Y_valid)\n",
    "\n",
    "Y_prob = model.predict_proba(X_valid)\n",
    "threshold = 0.99 \n",
    "Y_pred = np.max(Y_prob, axis=1) < threshold\n",
    "\n",
    "print(Y_pred)"
   ]
  },
  {
   "cell_type": "code",
   "execution_count": 18,
   "metadata": {},
   "outputs": [
    {
     "name": "stdout",
     "output_type": "stream",
     "text": [
      "Accuracy: 0.9933774834437086\n",
      "Classification Report:\n",
      "               precision    recall  f1-score   support\n",
      "\n",
      "           1       1.00      1.00      1.00        18\n",
      "           2       0.94      1.00      0.97        17\n",
      "           3       1.00      1.00      1.00        19\n",
      "           4       1.00      1.00      1.00        28\n",
      "           5       1.00      0.95      0.97        19\n",
      "           6       1.00      1.00      1.00        20\n",
      "           7       1.00      1.00      1.00        30\n",
      "\n",
      "    accuracy                           0.99       151\n",
      "   macro avg       0.99      0.99      0.99       151\n",
      "weighted avg       0.99      0.99      0.99       151\n",
      "\n",
      "Confusion Matrix:\n",
      " [[18  0  0  0  0  0  0]\n",
      " [ 0 17  0  0  0  0  0]\n",
      " [ 0  0 19  0  0  0  0]\n",
      " [ 0  0  0 28  0  0  0]\n",
      " [ 0  1  0  0 18  0  0]\n",
      " [ 0  0  0  0  0 20  0]\n",
      " [ 0  0  0  0  0  0 30]]\n"
     ]
    },
    {
     "data": {
      "text/plain": [
       "<sklearn.metrics._plot.confusion_matrix.ConfusionMatrixDisplay at 0x7e0adf4623b0>"
      ]
     },
     "execution_count": 18,
     "metadata": {},
     "output_type": "execute_result"
    },
    {
     "data": {
      "text/plain": [
       "<Figure size 640x480 with 0 Axes>"
      ]
     },
     "metadata": {},
     "output_type": "display_data"
    },
    {
     "data": {
      "image/png": "[encoded data removed]",
      "text/plain": [
       "<Figure size 640x480 with 2 Axes>"
      ]
     },
     "metadata": {},
     "output_type": "display_data"
    }
   ],
   "source": [
    "with open('dataset/validationset.pkl', 'rb') as f:\n",
    "    X_valid, Y_valid = pickle.load(f)\n",
    "Y_pred = model.predict(X_valid)\n",
    "\n",
    "#results\n",
    "accuracy = accuracy_score(Y_valid, Y_pred)\n",
    "print(f\"Accuracy: {accuracy}\")\n",
    "\n",
    "#classification report\n",
    "report = classification_report(Y_valid, Y_pred)\n",
    "print(\"Classification Report:\\n\", report)\n",
    "\n",
    "#confusion matrix\n",
    "conf_matrix = confusion_matrix(Y_valid, Y_pred)\n",
    "print(\"Confusion Matrix:\\n\", conf_matrix)\n",
    "\n",
    "plt.figure()\n",
    "ConfusionMatrixDisplay(conf_matrix).plot()"
   ]
  }
 ],
 "metadata": {
  "kernelspec": {
   "display_name": "Python 3",
   "language": "python",
   "name": "python3"
  },
  "language_info": {
   "codemirror_mode": {
    "name": "ipython",
    "version": 3
   },
   "file_extension": ".py",
   "mimetype": "text/x-python",
   "name": "python",
   "nbconvert_exporter": "python",
   "pygments_lexer": "ipython3",
   "version": "3.10.13"
  }
 },
 "nbformat": 4,
 "nbformat_minor": 2
}
