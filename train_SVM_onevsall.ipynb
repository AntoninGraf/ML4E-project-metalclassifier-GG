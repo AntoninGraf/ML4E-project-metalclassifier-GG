{
 "cells": [
  {
   "cell_type": "code",
   "execution_count": 1,
   "metadata": {},
   "outputs": [],
   "source": [
    "import numpy as np\n",
    "import pickle\n",
    "from sklearn import svm\n",
    "from sklearn.metrics import accuracy_score, classification_report, confusion_matrix,ConfusionMatrixDisplay\n",
    "import matplotlib.pyplot as plt\n",
    "from dev.datafilereader import DataFileReader\n",
    "from sklearn.multiclass import OneVsRestClassifier\n",
    "from sklearn.preprocessing import StandardScaler\n",
    "\n",
    "folder = \"./dataset\"\n",
    "\n",
    "labels = [\"unknown\", \"5_CTS\", \"10_CTS\", \"20_CTS\", \"50_CTS\", \"1_CHF\", \"2_CHF\", \"5_CHF\"]"
   ]
  },
  {
   "cell_type": "code",
   "execution_count": 2,
   "metadata": {},
   "outputs": [],
   "source": [
    "#load the training set\n",
    "with open('dataset/trainingset.pkl', 'rb') as f:\n",
    "    X, Y = pickle.load(f)"
   ]
  },
  {
   "cell_type": "code",
   "execution_count": 3,
   "metadata": {},
   "outputs": [],
   "source": [
    "#train the SVM model using sikit-learn library\n",
    "nu = 0.001\n",
    "clf = svm.OneClassSVM(kernel='rbf', gamma='scale', nu=nu)\n",
    "model = clf.fit(X)\n",
    "\n",
    "#save the model\n",
    "with open(\"data/Tests/modelOneVsAll.pkl\",\"wb+\") as f:\n",
    "    pickle.dump(model, f)"
   ]
  },
  {
   "cell_type": "code",
   "execution_count": 4,
   "metadata": {},
   "outputs": [],
   "source": [
    "#test prediction with validation set\n",
    "#load the validation set\n",
    "with open('dataset/validset_foreign.pkl', 'rb') as f:\n",
    "    X_valid, Y_valid = pickle.load(f)\n",
    "\n",
    "\n",
    "Y_pred = model.predict(X_valid)"
   ]
  },
  {
   "cell_type": "code",
   "execution_count": 5,
   "metadata": {},
   "outputs": [
    {
     "name": "stdout",
     "output_type": "stream",
     "text": [
      "Accuracy: 0.9\n",
      "Classification Report:\n",
      "               precision    recall  f1-score   support\n",
      "\n",
      "        -1.0       1.00      0.84      0.91        37\n",
      "         1.0       0.79      1.00      0.88        23\n",
      "\n",
      "    accuracy                           0.90        60\n",
      "   macro avg       0.90      0.92      0.90        60\n",
      "weighted avg       0.92      0.90      0.90        60\n",
      "\n",
      "Confusion Matrix:\n",
      " [[31  6]\n",
      " [ 0 23]]\n"
     ]
    },
    {
     "data": {
      "text/plain": [
       "<sklearn.metrics._plot.confusion_matrix.ConfusionMatrixDisplay at 0x18f5d8c9d90>"
      ]
     },
     "execution_count": 5,
     "metadata": {},
     "output_type": "execute_result"
    },
    {
     "data": {
      "text/plain": [
       "<Figure size 640x480 with 0 Axes>"
      ]
     },
     "metadata": {},
     "output_type": "display_data"
    },
    {
     "data": {
      "image/png": "[encoded data removed]",
      "text/plain": [
       "<Figure size 640x480 with 2 Axes>"
      ]
     },
     "metadata": {},
     "output_type": "display_data"
    }
   ],
   "source": [
    "\n",
    "#results\n",
    "accuracy = accuracy_score(Y_valid, Y_pred)\n",
    "print(f\"Accuracy: {accuracy}\")\n",
    "\n",
    "#classification report\n",
    "report = classification_report(Y_valid, Y_pred)\n",
    "print(\"Classification Report:\\n\", report)\n",
    "\n",
    "#confusion matrix\n",
    "conf_matrix = confusion_matrix(Y_valid, Y_pred)\n",
    "print(\"Confusion Matrix:\\n\", conf_matrix)\n",
    "\n",
    "plt.figure()\n",
    "ConfusionMatrixDisplay(conf_matrix).plot()"
   ]
  }
 ],
 "metadata": {
  "kernelspec": {
   "display_name": "Python 3",
   "language": "python",
   "name": "python3"
  },
  "language_info": {
   "codemirror_mode": {
    "name": "ipython",
    "version": 3
   },
   "file_extension": ".py",
   "mimetype": "text/x-python",
   "name": "python",
   "nbconvert_exporter": "python",
   "pygments_lexer": "ipython3",
   "version": "3.11.7"
  }
 },
 "nbformat": 4,
 "nbformat_minor": 2
}
