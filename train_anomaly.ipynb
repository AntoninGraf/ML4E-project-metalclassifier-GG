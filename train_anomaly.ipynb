{
 "cells": [
  {
   "cell_type": "code",
   "execution_count": 57,
   "metadata": {},
   "outputs": [],
   "source": [
    "import numpy as np\n",
    "import pickle\n",
    "from sklearn import svm\n",
    "from sklearn.metrics import accuracy_score, classification_report, confusion_matrix\n",
    "from sklearn.ensemble import IsolationForest\n",
    "import matplotlib.pyplot as plt\n",
    "from datafilereader import DataFileReader\n",
    "\n",
    "folder = \"./dataset\"\n",
    "\n",
    "labels = [\"unknown\", \"5_CTS\", \"10_CTS\", \"20_CTS\", \"50_CTS\", \"1_CHF\", \"2_CHF\", \"5_CHF\"]"
   ]
  },
  {
   "cell_type": "code",
   "execution_count": 28,
   "metadata": {},
   "outputs": [],
   "source": [
    "#load the training set\n",
    "with open('dataset/trainingset.pkl', 'rb') as f:\n",
    "    X, Y = pickle.load(f)"
   ]
  },
  {
   "cell_type": "code",
   "execution_count": 67,
   "metadata": {},
   "outputs": [],
   "source": [
    "#train the annomaly detection model using sk-learn library\n",
    "C = 0.1\n",
    "clf = IsolationForest(contamination=C, random_state=42)\n",
    "#clf = OneClassSVM(gamma='auto', nu=0.1)\n",
    "\n",
    "# Entraîner le modèle\n",
    "model = clf.fit(X)\n",
    "\n",
    "#save the model\n",
    "with open(\"data/Tests/modelAn1.pkl\",\"wb+\") as f:\n",
    "    pickle.dump(model, f)"
   ]
  },
  {
   "cell_type": "code",
   "execution_count": 68,
   "metadata": {},
   "outputs": [
    {
     "name": "stdout",
     "output_type": "stream",
     "text": [
      "[-1  1  1  1  1  1  1  1  1 -1  1 -1  1 -1 -1 -1 -1  1  1  1 -1 -1 -1  1\n",
      "  1 -1  1  1  1 -1  1 -1  1 -1 -1 -1  1  1 -1  1 -1 -1 -1  1 -1 -1  1 -1\n",
      "  1  1]\n",
      "Accuracy: 0.92\n",
      "Classification Report:\n",
      "               precision    recall  f1-score   support\n",
      "\n",
      "        -1.0       0.96      0.88      0.92        25\n",
      "         1.0       0.89      0.96      0.92        25\n",
      "\n",
      "    accuracy                           0.92        50\n",
      "   macro avg       0.92      0.92      0.92        50\n",
      "weighted avg       0.92      0.92      0.92        50\n",
      "\n",
      "Confusion Matrix:\n",
      " [[22  3]\n",
      " [ 1 24]]\n"
     ]
    }
   ],
   "source": [
    "#model prediction with the validationset\n",
    "with open('dataset/testset_foreign.pkl', 'rb') as f:\n",
    "    X_test, Y_test = pickle.load(f)\n",
    "# Perform model prediction\n",
    "Y_pred = model.predict(X_test)\n",
    "\n",
    "print(Y_pred)\n",
    "\n",
    "# #display the results\n",
    "# plt.figure()\n",
    "# plt.scatter(X_test[:, 0], X_test[:, 1], c=Y_pred, cmap='viridis')\n",
    "# plt.colorbar()\n",
    "# plt.title(\"OneClassSVM\")\n",
    "# plt.show()\n",
    "\n",
    "# print(Y_pred)\n",
    "\n",
    "#results\n",
    "accuracy = accuracy_score(Y_test, Y_pred)\n",
    "print(f\"Accuracy: {accuracy}\")\n",
    "\n",
    "#classification report\n",
    "report = classification_report(Y_test, Y_pred)\n",
    "print(\"Classification Report:\\n\", report)\n",
    "\n",
    "#confusion matrix\n",
    "conf_matrix = confusion_matrix(Y_test, Y_pred)\n",
    "print(\"Confusion Matrix:\\n\", conf_matrix)\n"
   ]
  }
 ],
 "metadata": {
  "kernelspec": {
   "display_name": "Python 3",
   "language": "python",
   "name": "python3"
  },
  "language_info": {
   "codemirror_mode": {
    "name": "ipython",
    "version": 3
   },
   "file_extension": ".py",
   "mimetype": "text/x-python",
   "name": "python",
   "nbconvert_exporter": "python",
   "pygments_lexer": "ipython3",
   "version": "3.10.13"
  }
 },
 "nbformat": 4,
 "nbformat_minor": 2
}
