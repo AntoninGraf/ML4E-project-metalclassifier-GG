{
 "cells": [
  {
   "cell_type": "code",
   "execution_count": 57,
   "metadata": {},
   "outputs": [],
   "source": [
    "import numpy as np\n",
    "import pickle\n",
    "from sklearn import svm\n",
    "from sklearn.metrics import accuracy_score, classification_report, confusion_matrix\n",
    "import matplotlib.pyplot as plt\n",
    "from datafilereader import DataFileReader\n",
    "\n",
    "folder = \"./dataset\"\n",
    "\n",
    "labels = [\"unknown\", \"5_CTS\", \"10_CTS\", \"20_CTS\", \"50_CTS\", \"1_CHF\", \"2_CHF\", \"5_CHF\"]"
   ]
  },
  {
   "cell_type": "code",
   "execution_count": 58,
   "metadata": {},
   "outputs": [],
   "source": [
    "#load the training set\n",
    "with open('dataset/trainingset.pkl', 'rb') as f:\n",
    "    X, Y = pickle.load(f)"
   ]
  },
  {
   "cell_type": "code",
   "execution_count": 59,
   "metadata": {},
   "outputs": [
    {
     "data": {
      "image/png": "[encoded data removed]",
      "text/plain": [
       "<Figure size 640x480 with 1 Axes>"
      ]
     },
     "metadata": {},
     "output_type": "display_data"
    }
   ],
   "source": [
    "#visualize the data using PCA\n",
    "def featureNormalize(X):\n",
    "    #plots the data points and gives the figure axes labels of population and profit.\n",
    "    # Input:\n",
    "    # - X [mxn] matrix of features (n=2)\n",
    "    # Output:\n",
    "    # - Xs [mxn] matrix of features scaled\n",
    "    # - mean [1xn] mean vector\n",
    "    # - sigma [1xn] standard deviation vector\n",
    "    mu  = np.mean(X,axis=0)\n",
    "    sigma = np.std(X,axis=0,ddof=1)\n",
    "    Xs = (X-mu)/sigma\n",
    "    \n",
    "    return Xs,mu,sigma\n",
    "\n",
    "def pca(X):\n",
    "    # computes eigenvectors of the covariance matrix of X\n",
    "    # Returns the eigenvectors U, the eigenvalues (on diagonal) in S\n",
    "    # Input:\n",
    "    # - X [m,n] data set\n",
    "    # Output:\n",
    "    # - U [n,n] matrix of eigen vectors (each column is a vector)\n",
    "    # - S [n,] vector of eigenvalues\n",
    "    \n",
    "    U = np.zeros((X.shape[1],X.shape[1]))\n",
    "    S = np.zeros(X.shape[1])\n",
    "    \n",
    "    #-- your work --\n",
    "    #compute the covariance matrix\n",
    "    m = X.shape[0]\n",
    "    cov = np.dot(X.T,X)/m\n",
    "    #compute the eigenvectors and eigenvalues\n",
    "    U,S,V = np.linalg.svd(cov)\n",
    "        \n",
    "    #---------------\n",
    "    \n",
    "    return U,S\n",
    "\n",
    "def projectData(X,U,K):\n",
    "    # Computes the reduced data representation when projecting only \n",
    "    # on to the top k eigenvectors. It returns the projected examples in Z.\n",
    "    # Input:\n",
    "    # - X : [m,n] data set\n",
    "    # - U : [n,n] matrix of eigen vector\n",
    "    # - K : number of components to keep\n",
    "    # Output:\n",
    "    # - Z : [m,K] projected data set on the K first components\n",
    "    \n",
    "    Z = np.zeros((X.shape[0],K))\n",
    "    \n",
    "    #-- your work --\n",
    "    #project the data\n",
    "    Z = np.dot(X,U[:,:K])\n",
    "        \n",
    "    #---------------\n",
    "    return Z\n",
    "\n",
    "Xn, mu,_ = featureNormalize(X)\n",
    "U,S = pca(Xn)\n",
    "K = 1\n",
    "Z = projectData(Xn,U,K)\n",
    "\n",
    "plt.figure()\n",
    "colors = ['k','r','g','b','c','m','y','orange']\n",
    "for i in range(len(Y)):\n",
    "    plt.plot(Z[i],colors[Y[i]],marker='o',linestyle='None')\n",
    "plt.title('Projected data on %g component'%(K))\n",
    "plt.xlabel('m')\n",
    "plt.ylabel('Z')\n",
    "plt.show()\n"
   ]
  },
  {
   "cell_type": "code",
   "execution_count": 60,
   "metadata": {},
   "outputs": [],
   "source": [
    "#train the SVM model using sikit-learn library\n",
    "C = 1\n",
    "clf = svm.SVC(kernel='linear', C =C)\n",
    "model = clf.fit(X, Y)\n",
    "\n",
    "#save the model\n",
    "with open(\"data/Tests/model1.pkl\",\"wb+\") as f:\n",
    "    pickle.dump(model, f)"
   ]
  },
  {
   "cell_type": "code",
   "execution_count": 61,
   "metadata": {},
   "outputs": [
    {
     "name": "stdout",
     "output_type": "stream",
     "text": [
      "Accuracy: 0.9933774834437086\n",
      "Classification Report:\n",
      "               precision    recall  f1-score   support\n",
      "\n",
      "           1       1.00      1.00      1.00        18\n",
      "           2       0.94      1.00      0.97        17\n",
      "           3       1.00      1.00      1.00        19\n",
      "           4       1.00      1.00      1.00        28\n",
      "           5       1.00      0.95      0.97        19\n",
      "           6       1.00      1.00      1.00        20\n",
      "           7       1.00      1.00      1.00        30\n",
      "\n",
      "    accuracy                           0.99       151\n",
      "   macro avg       0.99      0.99      0.99       151\n",
      "weighted avg       0.99      0.99      0.99       151\n",
      "\n",
      "Confusion Matrix:\n",
      " [[18  0  0  0  0  0  0]\n",
      " [ 0 17  0  0  0  0  0]\n",
      " [ 0  0 19  0  0  0  0]\n",
      " [ 0  0  0 28  0  0  0]\n",
      " [ 0  1  0  0 18  0  0]\n",
      " [ 0  0  0  0  0 20  0]\n",
      " [ 0  0  0  0  0  0 30]]\n"
     ]
    }
   ],
   "source": [
    "#model prediction with the validationset\n",
    "\n",
    "with open('dataset/validationset.pkl', 'rb') as f:\n",
    "    X_valid, Y_valid = pickle.load(f)\n",
    "Y_pred = model.predict(X_valid)\n",
    "\n",
    "#results\n",
    "accuracy = accuracy_score(Y_valid, Y_pred)\n",
    "print(f\"Accuracy: {accuracy}\")\n",
    "\n",
    "#classification report\n",
    "report = classification_report(Y_valid, Y_pred)\n",
    "print(\"Classification Report:\\n\", report)\n",
    "\n",
    "#confusion matrix\n",
    "conf_matrix = confusion_matrix(Y_valid, Y_pred)\n",
    "print(\"Confusion Matrix:\\n\", conf_matrix)"
   ]
  }
 ],
 "metadata": {
  "kernelspec": {
   "display_name": "Python 3",
   "language": "python",
   "name": "python3"
  },
  "language_info": {
   "codemirror_mode": {
    "name": "ipython",
    "version": 3
   },
   "file_extension": ".py",
   "mimetype": "text/x-python",
   "name": "python",
   "nbconvert_exporter": "python",
   "pygments_lexer": "ipython3",
   "version": "3.10.13"
  }
 },
 "nbformat": 4,
 "nbformat_minor": 2
}
