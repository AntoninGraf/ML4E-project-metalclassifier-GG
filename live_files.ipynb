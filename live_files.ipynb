{
 "cells": [
  {
   "cell_type": "markdown",
   "metadata": {},
   "source": [
    "# Detection using pre-measured data in .h5 files \n",
    "procedure\n",
    "1) place the files you want to process in ./data/live_files\n",
    "2) run the following cell to process all the files in the folder"
   ]
  },
  {
   "cell_type": "code",
   "execution_count": 4,
   "metadata": {},
   "outputs": [
    {
     "name": "stdout",
     "output_type": "stream",
     "text": [
      "Found 3 files in the folder.\n"
     ]
    },
    {
     "name": "stderr",
     "output_type": "stream",
     "text": [
      "d:\\programs\\anaconda\\Lib\\site-packages\\sklearn\\base.py:318: UserWarning: Trying to unpickle estimator SVC from version 1.5.0 when using version 1.2.2. This might lead to breaking code or invalid results. Use at your own risk. For more info please refer to:\n",
      "https://scikit-learn.org/stable/model_persistence.html#security-maintainability-limitations\n",
      "  warnings.warn(\n"
     ]
    }
   ],
   "source": [
    "import tester_functions\n",
    "\n",
    "folder_path = \"./data/live_files/\"\n",
    "summary_results, detailed_results = tester_functions.process_files(folder_path)"
   ]
  },
  {
   "cell_type": "markdown",
   "metadata": {},
   "source": [
    "### run the following cell to have a brief summary of each file"
   ]
  },
  {
   "cell_type": "code",
   "execution_count": 2,
   "metadata": {},
   "outputs": [
    {
     "name": "stdout",
     "output_type": "stream",
     "text": [
      "\n",
      "Summary of Results for All Files:\n",
      "Test Set N°1:\n",
      "  10_CTS: 5\n",
      "  1_CHF: 35\n",
      "Test Set N°2:\n",
      "  2_CHF: 30\n",
      "Test Set N°3:\n",
      "  2_CHF: 1\n",
      "  5_CHF: 49\n"
     ]
    }
   ],
   "source": [
    "# Cell to print summary results\n",
    "print(\"\\nSummary of Results for All Files:\")\n",
    "for summary in summary_results:\n",
    "    print(f\"Test Set N°{summary['file']}:\")\n",
    "    for coin, count in summary[\"predictions\"].items():\n",
    "        if count > 0:\n",
    "            print(f\"  {coin}: {count}\")"
   ]
  },
  {
   "cell_type": "markdown",
   "metadata": {},
   "source": [
    "### run the following cell to have a detailed description of each file"
   ]
  },
  {
   "cell_type": "code",
   "execution_count": 5,
   "metadata": {},
   "outputs": [
    {
     "name": "stdout",
     "output_type": "stream",
     "text": [
      "\n",
      "Detailed Results for test set N°1:\n",
      "Measurement     Coin Type           \n",
      "-----------------------------------\n",
      "Measurement 0   1_CHF               \n",
      "Measurement 1   10_CTS              \n",
      "Measurement 2   1_CHF               \n",
      "Measurement 3   1_CHF               \n",
      "Measurement 4   1_CHF               \n",
      "Measurement 5   1_CHF               \n",
      "Measurement 6   1_CHF               \n",
      "Measurement 7   1_CHF               \n",
      "Measurement 8   1_CHF               \n",
      "Measurement 9   1_CHF               \n",
      "Measurement 10  1_CHF               \n",
      "Measurement 11  1_CHF               \n",
      "Measurement 12  1_CHF               \n",
      "Measurement 13  10_CTS              \n",
      "Measurement 14  1_CHF               \n",
      "Measurement 15  1_CHF               \n",
      "Measurement 16  1_CHF               \n",
      "Measurement 17  1_CHF               \n",
      "Measurement 18  1_CHF               \n",
      "Measurement 19  1_CHF               \n",
      "Measurement 20  1_CHF               \n",
      "Measurement 21  1_CHF               \n",
      "Measurement 22  1_CHF               \n",
      "Measurement 23  1_CHF               \n",
      "Measurement 24  1_CHF               \n",
      "Measurement 25  1_CHF               \n",
      "Measurement 26  1_CHF               \n",
      "Measurement 27  1_CHF               \n",
      "Measurement 28  1_CHF               \n",
      "Measurement 29  1_CHF               \n",
      "Measurement 30  1_CHF               \n",
      "Measurement 31  1_CHF               \n",
      "Measurement 32  1_CHF               \n",
      "Measurement 33  1_CHF               \n",
      "Measurement 34  1_CHF               \n",
      "Measurement 35  10_CTS              \n",
      "Measurement 36  10_CTS              \n",
      "Measurement 37  10_CTS              \n",
      "Measurement 38  1_CHF               \n",
      "Measurement 39  1_CHF               \n",
      "\n",
      "Detailed Results for test set N°2:\n",
      "Measurement     Coin Type           \n",
      "-----------------------------------\n",
      "Measurement 0   2_CHF               \n",
      "Measurement 1   2_CHF               \n",
      "Measurement 2   2_CHF               \n",
      "Measurement 3   2_CHF               \n",
      "Measurement 4   2_CHF               \n",
      "Measurement 5   2_CHF               \n",
      "Measurement 6   2_CHF               \n",
      "Measurement 7   2_CHF               \n",
      "Measurement 8   2_CHF               \n",
      "Measurement 9   2_CHF               \n",
      "Measurement 10  2_CHF               \n",
      "Measurement 11  2_CHF               \n",
      "Measurement 12  2_CHF               \n",
      "Measurement 13  2_CHF               \n",
      "Measurement 14  2_CHF               \n",
      "Measurement 15  2_CHF               \n",
      "Measurement 16  2_CHF               \n",
      "Measurement 17  2_CHF               \n",
      "Measurement 18  2_CHF               \n",
      "Measurement 19  2_CHF               \n",
      "Measurement 20  2_CHF               \n",
      "Measurement 21  2_CHF               \n",
      "Measurement 22  2_CHF               \n",
      "Measurement 23  2_CHF               \n",
      "Measurement 24  2_CHF               \n",
      "Measurement 25  2_CHF               \n",
      "Measurement 26  2_CHF               \n",
      "Measurement 27  2_CHF               \n",
      "Measurement 28  2_CHF               \n",
      "Measurement 29  2_CHF               \n",
      "\n",
      "Detailed Results for test set N°3:\n",
      "Measurement     Coin Type           \n",
      "-----------------------------------\n",
      "Measurement 0   5_CHF               \n",
      "Measurement 1   5_CHF               \n",
      "Measurement 2   5_CHF               \n",
      "Measurement 3   5_CHF               \n",
      "Measurement 4   5_CHF               \n",
      "Measurement 5   5_CHF               \n",
      "Measurement 6   5_CHF               \n",
      "Measurement 7   5_CHF               \n",
      "Measurement 8   5_CHF               \n",
      "Measurement 9   5_CHF               \n",
      "Measurement 10  5_CHF               \n",
      "Measurement 11  5_CHF               \n",
      "Measurement 12  5_CHF               \n",
      "Measurement 13  5_CHF               \n",
      "Measurement 14  5_CHF               \n",
      "Measurement 15  5_CHF               \n",
      "Measurement 16  5_CHF               \n",
      "Measurement 17  5_CHF               \n",
      "Measurement 18  5_CHF               \n",
      "Measurement 19  5_CHF               \n",
      "Measurement 20  5_CHF               \n",
      "Measurement 21  5_CHF               \n",
      "Measurement 22  2_CHF               \n",
      "Measurement 23  5_CHF               \n",
      "Measurement 24  5_CHF               \n",
      "Measurement 25  5_CHF               \n",
      "Measurement 26  5_CHF               \n",
      "Measurement 27  5_CHF               \n",
      "Measurement 28  5_CHF               \n",
      "Measurement 29  5_CHF               \n",
      "Measurement 30  5_CHF               \n",
      "Measurement 31  5_CHF               \n",
      "Measurement 32  5_CHF               \n",
      "Measurement 33  5_CHF               \n",
      "Measurement 34  5_CHF               \n",
      "Measurement 35  5_CHF               \n",
      "Measurement 36  5_CHF               \n",
      "Measurement 37  5_CHF               \n",
      "Measurement 38  5_CHF               \n",
      "Measurement 39  5_CHF               \n",
      "Measurement 40  5_CHF               \n",
      "Measurement 41  5_CHF               \n",
      "Measurement 42  5_CHF               \n",
      "Measurement 43  5_CHF               \n",
      "Measurement 44  5_CHF               \n",
      "Measurement 45  5_CHF               \n",
      "Measurement 46  5_CHF               \n",
      "Measurement 47  5_CHF               \n",
      "Measurement 48  5_CHF               \n",
      "Measurement 49  5_CHF               \n"
     ]
    }
   ],
   "source": [
    "# Cell to print detailed results for each measurement\n",
    "for file, results_array in detailed_results.items():\n",
    "    print(f\"\\nDetailed Results for test set N°{file}:\")\n",
    "    print(\"{:<15} {:<20}\".format(\"Measurement\", \"Coin Type\"))\n",
    "    print(\"-\" * 35)\n",
    "    for row in results_array:\n",
    "        print(\"{:<15} {:<20}\".format(row[0], row[1]))"
   ]
  }
 ],
 "metadata": {
  "kernelspec": {
   "display_name": "base",
   "language": "python",
   "name": "python3"
  },
  "language_info": {
   "codemirror_mode": {
    "name": "ipython",
    "version": 3
   },
   "file_extension": ".py",
   "mimetype": "text/x-python",
   "name": "python",
   "nbconvert_exporter": "python",
   "pygments_lexer": "ipython3",
   "version": "3.11.7"
  }
 },
 "nbformat": 4,
 "nbformat_minor": 2
}
