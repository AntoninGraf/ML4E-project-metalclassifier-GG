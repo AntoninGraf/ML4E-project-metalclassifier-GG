{
 "cells": [
  {
   "cell_type": "markdown",
   "metadata": {},
   "source": [
    "# Live detection with the Inductive Smart Sensor (ISS)\n",
    "procedure\n",
    "1) launch ISS.exe\n",
    "2) select New HDF file and choose the file located in ./data/Test/liveTests.h5 (you can replace the existing file)\n",
    "3) connect the ISS \n",
    "4) if the device is connected launch the following cell and follow the instructions\n",
    "5) do the measurment needed and interupt the processing to exit"
   ]
  },
  {
   "cell_type": "code",
   "execution_count": 2,
   "metadata": {},
   "outputs": [
    {
     "name": "stdout",
     "output_type": "stream",
     "text": [
      "\n",
      "\n",
      "\n",
      "=====================================================\n",
      "Please Start Calibration (one short press in the air)\n"
     ]
    },
    {
     "ename": "KeyboardInterrupt",
     "evalue": "",
     "output_type": "error",
     "traceback": [
      "\u001b[1;31m---------------------------------------------------------------------------\u001b[0m",
      "\u001b[1;31mKeyboardInterrupt\u001b[0m                         Traceback (most recent call last)",
      "Cell \u001b[1;32mIn[2], line 4\u001b[0m\n\u001b[0;32m      1\u001b[0m \u001b[38;5;28;01mimport\u001b[39;00m \u001b[38;5;21;01mtester_functions\u001b[39;00m\n\u001b[0;32m      3\u001b[0m filePath \u001b[38;5;241m=\u001b[39m file_path \u001b[38;5;241m=\u001b[39m \u001b[38;5;124m\"\u001b[39m\u001b[38;5;124m./data/Tests/liveTest.h5\u001b[39m\u001b[38;5;124m\"\u001b[39m \n\u001b[1;32m----> 4\u001b[0m \u001b[43mtester_functions\u001b[49m\u001b[38;5;241;43m.\u001b[39;49m\u001b[43mliveTest\u001b[49m\u001b[43m(\u001b[49m\u001b[43mfilePath\u001b[49m\u001b[43m)\u001b[49m\n",
      "File \u001b[1;32mc:\\Users\\Antonin HEIG-VD\\Documents\\HEIG-VD\\S6\\machLearn\\mini-projet\\ML4E-project-metalclassifier-GG\\tester_functions.py:33\u001b[0m, in \u001b[0;36mliveTest\u001b[1;34m(file_path)\u001b[0m\n\u001b[0;32m     30\u001b[0m \u001b[38;5;28mprint\u001b[39m(\u001b[38;5;124m\"\u001b[39m\u001b[38;5;124mPlease Start Calibration (one short press in the air)\u001b[39m\u001b[38;5;124m\"\u001b[39m)\n\u001b[0;32m     31\u001b[0m \u001b[38;5;28;01mwhile\u001b[39;00m \u001b[38;5;129;01mnot\u001b[39;00m Calibrated:\n\u001b[1;32m---> 33\u001b[0m     \u001b[38;5;28;01mif\u001b[39;00m \u001b[43mreader\u001b[49m\u001b[38;5;241;43m.\u001b[39;49m\u001b[43mhas_file_changed\u001b[49m\u001b[43m(\u001b[49m\u001b[43m)\u001b[49m:\n\u001b[0;32m     34\u001b[0m         f, Z, is_reference \u001b[38;5;241m=\u001b[39m reader\u001b[38;5;241m.\u001b[39mget_last_mesurement()\n\u001b[0;32m     35\u001b[0m         R_cal \u001b[38;5;241m=\u001b[39m np\u001b[38;5;241m.\u001b[39mreal(Z)\n",
      "File \u001b[1;32mc:\\Users\\Antonin HEIG-VD\\Documents\\HEIG-VD\\S6\\machLearn\\mini-projet\\ML4E-project-metalclassifier-GG\\dev\\datafilereader.py:136\u001b[0m, in \u001b[0;36mDataFileReader.has_file_changed\u001b[1;34m(self)\u001b[0m\n\u001b[0;32m    134\u001b[0m \u001b[38;5;28;01mdef\u001b[39;00m \u001b[38;5;21mhas_file_changed\u001b[39m(\u001b[38;5;28mself\u001b[39m):\n\u001b[0;32m    135\u001b[0m     \u001b[38;5;66;03m# determine if the file has changed\u001b[39;00m\n\u001b[1;32m--> 136\u001b[0m     current_timestamp \u001b[38;5;241m=\u001b[39m \u001b[43mos\u001b[49m\u001b[38;5;241;43m.\u001b[39;49m\u001b[43mpath\u001b[49m\u001b[38;5;241;43m.\u001b[39;49m\u001b[43mgetmtime\u001b[49m\u001b[43m(\u001b[49m\u001b[38;5;28;43mself\u001b[39;49m\u001b[38;5;241;43m.\u001b[39;49m\u001b[43m__filename\u001b[49m\u001b[43m)\u001b[49m\n\u001b[0;32m    137\u001b[0m     haschanged \u001b[38;5;241m=\u001b[39m current_timestamp \u001b[38;5;241m!=\u001b[39m \u001b[38;5;28mself\u001b[39m\u001b[38;5;241m.\u001b[39mcurrent_modification_timestamp\n\u001b[0;32m    138\u001b[0m     \u001b[38;5;28mself\u001b[39m\u001b[38;5;241m.\u001b[39mcurrent_modification_timestamp \u001b[38;5;241m=\u001b[39m current_timestamp\n",
      "File \u001b[1;32m<frozen genericpath>:55\u001b[0m, in \u001b[0;36mgetmtime\u001b[1;34m(filename)\u001b[0m\n",
      "\u001b[1;31mKeyboardInterrupt\u001b[0m: "
     ]
    }
   ],
   "source": [
    "import tester_functions\n",
    "\n",
    "filePath = file_path = \"./data/live_tests/liveTest.h5\" \n",
    "tester_functions.liveTest(filePath)"
   ]
  }
 ],
 "metadata": {
  "kernelspec": {
   "display_name": "base",
   "language": "python",
   "name": "python3"
  },
  "language_info": {
   "codemirror_mode": {
    "name": "ipython",
    "version": 3
   },
   "file_extension": ".py",
   "mimetype": "text/x-python",
   "name": "python",
   "nbconvert_exporter": "python",
   "pygments_lexer": "ipython3",
   "version": "3.11.7"
  }
 },
 "nbformat": 4,
 "nbformat_minor": 2
}
